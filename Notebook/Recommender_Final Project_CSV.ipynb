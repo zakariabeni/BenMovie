{
 "cells": [
  {
   "cell_type": "markdown",
   "metadata": {},
   "source": [
    "# IMDB Movie Recommender (Content Based)"
   ]
  },
  {
   "cell_type": "markdown",
   "metadata": {},
   "source": [
    "#### Import Library"
   ]
  },
  {
   "cell_type": "code",
   "execution_count": 205,
   "metadata": {},
   "outputs": [],
   "source": [
    "# Library\n",
    "import pandas as pd\n",
    "import re\n",
    "import nltk\n",
    "\n",
    "from requests import get\n",
    "from bs4 import BeautifulSoup\n",
    "from time import time, sleep\n",
    "from random import randint\n",
    "from IPython.core.display import clear_output\n",
    "from collections import Counter\n",
    "from sklearn.feature_extraction.text import CountVectorizer\n",
    "from sklearn.metrics.pairwise import cosine_similarity, linear_kernel"
   ]
  },
  {
   "cell_type": "markdown",
   "metadata": {},
   "source": [
    "#### Define Additional Function"
   ]
  },
  {
   "cell_type": "code",
   "execution_count": 2,
   "metadata": {},
   "outputs": [],
   "source": [
    "def short(x):\n",
    "    lst = []\n",
    "    for i in x:\n",
    "        y = i.replace(' ','')\n",
    "        z = y.lower()\n",
    "        lst.append(z)\n",
    "    return lst"
   ]
  },
  {
   "cell_type": "code",
   "execution_count": 3,
   "metadata": {},
   "outputs": [],
   "source": [
    "class Preprocessor:\n",
    "    def __init__(self):\n",
    "        self.stop_words = set(nltk.corpus.stopwords.words('english'))\n",
    "        self.ps = nltk.stem.PorterStemmer()\n",
    "\n",
    "    # word tokenize text using nltk lib\n",
    "    def tokenize(self, text):\n",
    "        return nltk.word_tokenize(text)\n",
    "\n",
    "    # stem word using provided stemmer\n",
    "    def stem(self, word, stemmer):\n",
    "        return stemmer.stem(word)\n",
    "\n",
    "    # check if word is appropriate - not a stop word and isalpha, \n",
    "    # i.e consists of letters, not punctuation, numbers, dates\n",
    "    def is_apt_word(self, word):\n",
    "        return word not in self.stop_words and word.isalpha()\n",
    "\n",
    "    # combines all previous methods together\n",
    "    # tokenizes lowercased text and stems it, ignoring not appropriate words\n",
    "    def preprocess(self, text):\n",
    "        tokenized = self.tokenize(text.lower())\n",
    "        return [self.stem(w, self.ps) for w in tokenized if self.is_apt_word(w)]"
   ]
  },
  {
   "cell_type": "code",
   "execution_count": 4,
   "metadata": {},
   "outputs": [],
   "source": [
    "def build_inverted_index_orig_forms(documents):\n",
    "    inverted_index = {}\n",
    "    for no, strings in enumerate(documents):\n",
    "        s = re.sub(r'([^\\w\\s])','',strings)\n",
    "        tokens = nltk.word_tokenize(s.lower())\n",
    "        file_index = Counter(tokens)\n",
    "        # update global index\n",
    "        for term in file_index.keys():\n",
    "            file_freq = file_index[term]\n",
    "            if term not in inverted_index:                \n",
    "                inverted_index[term] = [file_freq, (no, file_freq)]\n",
    "            else:\n",
    "                inverted_index[term][0] += file_freq\n",
    "                inverted_index[term].append((no, file_freq))\n",
    "    return inverted_index\n",
    "\n",
    "def generate_wildcard_options(wildcard, k, inverted_index): \n",
    "    list_word = []\n",
    "    for term in inverted_index.keys():\n",
    "        string = wildcard.replace('*','$')\n",
    "        pad = '$' + string + '$'\n",
    "        result = nltk.ngrams(pad, k)\n",
    "        for i in list(result):\n",
    "            tri = \"\".join(i)\n",
    "            if re.search(tri, term):\n",
    "                list_word.append(term)\n",
    "    \n",
    "    s_wildcard = wildcard.replace('*', '.+')\n",
    "    return [string for string in list_word if re.match(s_wildcard, string)]\n",
    "\n",
    "def search_wildcard(wildcard, k, index, docs):\n",
    "    wildcard_options = generate_wildcard_options(wildcard, k, index)\n",
    "    list_fact = []\n",
    "    for term in wildcard_options:\n",
    "        for line in docs:\n",
    "            if re.search(term, line, flags=re.I):\n",
    "                list_fact.append(line)      \n",
    "    return list_fact"
   ]
  },
  {
   "cell_type": "markdown",
   "metadata": {},
   "source": [
    "#### Read CSV"
   ]
  },
  {
   "cell_type": "code",
   "execution_count": 322,
   "metadata": {},
   "outputs": [],
   "source": [
    "movie_rating = pd.read_csv('movie_data_5k.csv')"
   ]
  },
  {
   "cell_type": "code",
   "execution_count": 324,
   "metadata": {},
   "outputs": [
    {
     "data": {
      "text/html": [
       "<div>\n",
       "<style scoped>\n",
       "    .dataframe tbody tr th:only-of-type {\n",
       "        vertical-align: middle;\n",
       "    }\n",
       "\n",
       "    .dataframe tbody tr th {\n",
       "        vertical-align: top;\n",
       "    }\n",
       "\n",
       "    .dataframe thead th {\n",
       "        text-align: right;\n",
       "    }\n",
       "</style>\n",
       "<table border=\"1\" class=\"dataframe\">\n",
       "  <thead>\n",
       "    <tr style=\"text-align: right;\">\n",
       "      <th></th>\n",
       "      <th>Unnamed: 0</th>\n",
       "      <th>movie_img</th>\n",
       "      <th>movie</th>\n",
       "      <th>year</th>\n",
       "      <th>certificate</th>\n",
       "      <th>duration</th>\n",
       "      <th>genre</th>\n",
       "      <th>description</th>\n",
       "      <th>director</th>\n",
       "      <th>stars</th>\n",
       "      <th>imdb</th>\n",
       "      <th>votes</th>\n",
       "    </tr>\n",
       "  </thead>\n",
       "  <tbody>\n",
       "    <tr>\n",
       "      <th>0</th>\n",
       "      <td>0</td>\n",
       "      <td>https://m.media-amazon.com/images/M/MV5BMDFkYT...</td>\n",
       "      <td>The Shawshank Redemption</td>\n",
       "      <td>1994</td>\n",
       "      <td>R</td>\n",
       "      <td>142 min</td>\n",
       "      <td>Drama</td>\n",
       "      <td>Two imprisoned men bond over a number of years...</td>\n",
       "      <td>['Frank Darabont']</td>\n",
       "      <td>['Tim Robbins, Morgan Freeman, Bob Gunton, Wil...</td>\n",
       "      <td>9.3</td>\n",
       "      <td>2235501</td>\n",
       "    </tr>\n",
       "    <tr>\n",
       "      <th>1</th>\n",
       "      <td>1</td>\n",
       "      <td>https://m.media-amazon.com/images/M/MV5BMTMxNT...</td>\n",
       "      <td>The Dark Knight</td>\n",
       "      <td>2008</td>\n",
       "      <td>PG-13</td>\n",
       "      <td>152 min</td>\n",
       "      <td>Action, Crime, Drama</td>\n",
       "      <td>When the menace known as the Joker wreaks havo...</td>\n",
       "      <td>['Christopher Nolan']</td>\n",
       "      <td>['Christian Bale, Heath Ledger, Aaron Eckhart,...</td>\n",
       "      <td>9.0</td>\n",
       "      <td>2206475</td>\n",
       "    </tr>\n",
       "    <tr>\n",
       "      <th>2</th>\n",
       "      <td>2</td>\n",
       "      <td>https://m.media-amazon.com/images/M/MV5BMjAxMz...</td>\n",
       "      <td>Inception</td>\n",
       "      <td>2010</td>\n",
       "      <td>PG-13</td>\n",
       "      <td>148 min</td>\n",
       "      <td>Action, Adventure, Sci-Fi</td>\n",
       "      <td>A thief who steals corporate secrets through t...</td>\n",
       "      <td>['Christopher Nolan']</td>\n",
       "      <td>['Leonardo DiCaprio, Joseph Gordon-Levitt, Ell...</td>\n",
       "      <td>8.8</td>\n",
       "      <td>1959988</td>\n",
       "    </tr>\n",
       "    <tr>\n",
       "      <th>3</th>\n",
       "      <td>3</td>\n",
       "      <td>https://m.media-amazon.com/images/M/MV5BMmEzNT...</td>\n",
       "      <td>Fight Club</td>\n",
       "      <td>1999</td>\n",
       "      <td>R</td>\n",
       "      <td>139 min</td>\n",
       "      <td>Drama</td>\n",
       "      <td>An insomniac office worker and a devil-may-car...</td>\n",
       "      <td>['David Fincher']</td>\n",
       "      <td>['Brad Pitt, Edward Norton, Meat Loaf, Zach Gr...</td>\n",
       "      <td>8.8</td>\n",
       "      <td>1779638</td>\n",
       "    </tr>\n",
       "    <tr>\n",
       "      <th>4</th>\n",
       "      <td>4</td>\n",
       "      <td>https://m.media-amazon.com/images/M/MV5BNGNhMD...</td>\n",
       "      <td>Pulp Fiction</td>\n",
       "      <td>1994</td>\n",
       "      <td>R</td>\n",
       "      <td>154 min</td>\n",
       "      <td>Crime, Drama</td>\n",
       "      <td>The lives of two mob hitmen, a boxer, a gangst...</td>\n",
       "      <td>['Quentin Tarantino']</td>\n",
       "      <td>['John Travolta, Uma Thurman, Samuel L. Jackso...</td>\n",
       "      <td>8.9</td>\n",
       "      <td>1752001</td>\n",
       "    </tr>\n",
       "  </tbody>\n",
       "</table>\n",
       "</div>"
      ],
      "text/plain": [
       "   Unnamed: 0                                          movie_img  \\\n",
       "0           0  https://m.media-amazon.com/images/M/MV5BMDFkYT...   \n",
       "1           1  https://m.media-amazon.com/images/M/MV5BMTMxNT...   \n",
       "2           2  https://m.media-amazon.com/images/M/MV5BMjAxMz...   \n",
       "3           3  https://m.media-amazon.com/images/M/MV5BMmEzNT...   \n",
       "4           4  https://m.media-amazon.com/images/M/MV5BNGNhMD...   \n",
       "\n",
       "                      movie  year certificate duration  \\\n",
       "0  The Shawshank Redemption  1994           R  142 min   \n",
       "1           The Dark Knight  2008       PG-13  152 min   \n",
       "2                 Inception  2010       PG-13  148 min   \n",
       "3                Fight Club  1999           R  139 min   \n",
       "4              Pulp Fiction  1994           R  154 min   \n",
       "\n",
       "                       genre  \\\n",
       "0                      Drama   \n",
       "1       Action, Crime, Drama   \n",
       "2  Action, Adventure, Sci-Fi   \n",
       "3                      Drama   \n",
       "4               Crime, Drama   \n",
       "\n",
       "                                         description               director  \\\n",
       "0  Two imprisoned men bond over a number of years...     ['Frank Darabont']   \n",
       "1  When the menace known as the Joker wreaks havo...  ['Christopher Nolan']   \n",
       "2  A thief who steals corporate secrets through t...  ['Christopher Nolan']   \n",
       "3  An insomniac office worker and a devil-may-car...      ['David Fincher']   \n",
       "4  The lives of two mob hitmen, a boxer, a gangst...  ['Quentin Tarantino']   \n",
       "\n",
       "                                               stars  imdb    votes  \n",
       "0  ['Tim Robbins, Morgan Freeman, Bob Gunton, Wil...   9.3  2235501  \n",
       "1  ['Christian Bale, Heath Ledger, Aaron Eckhart,...   9.0  2206475  \n",
       "2  ['Leonardo DiCaprio, Joseph Gordon-Levitt, Ell...   8.8  1959988  \n",
       "3  ['Brad Pitt, Edward Norton, Meat Loaf, Zach Gr...   8.8  1779638  \n",
       "4  ['John Travolta, Uma Thurman, Samuel L. Jackso...   8.9  1752001  "
      ]
     },
     "execution_count": 324,
     "metadata": {},
     "output_type": "execute_result"
    }
   ],
   "source": [
    "movie_rating.head()"
   ]
  },
  {
   "cell_type": "code",
   "execution_count": 325,
   "metadata": {},
   "outputs": [
    {
     "name": "stdout",
     "output_type": "stream",
     "text": [
      "<class 'pandas.core.frame.DataFrame'>\n",
      "RangeIndex: 5000 entries, 0 to 4999\n",
      "Data columns (total 12 columns):\n",
      " #   Column       Non-Null Count  Dtype  \n",
      "---  ------       --------------  -----  \n",
      " 0   Unnamed: 0   5000 non-null   int64  \n",
      " 1   movie_img    5000 non-null   object \n",
      " 2   movie        5000 non-null   object \n",
      " 3   year         5000 non-null   object \n",
      " 4   certificate  5000 non-null   object \n",
      " 5   duration     5000 non-null   object \n",
      " 6   genre        5000 non-null   object \n",
      " 7   description  5000 non-null   object \n",
      " 8   director     4445 non-null   object \n",
      " 9   stars        4998 non-null   object \n",
      " 10  imdb         5000 non-null   float64\n",
      " 11  votes        5000 non-null   int64  \n",
      "dtypes: float64(1), int64(2), object(9)\n",
      "memory usage: 468.9+ KB\n"
     ]
    }
   ],
   "source": [
    "movies = movie_rating\n",
    "movies.info()"
   ]
  },
  {
   "cell_type": "markdown",
   "metadata": {},
   "source": [
    "#### Data Handling"
   ]
  },
  {
   "cell_type": "code",
   "execution_count": 327,
   "metadata": {},
   "outputs": [
    {
     "data": {
      "text/plain": [
       "False"
      ]
     },
     "execution_count": 327,
     "metadata": {},
     "output_type": "execute_result"
    }
   ],
   "source": [
    "movies['director'] = movies['director'].fillna('')\n",
    "movies['director'].isnull().any()"
   ]
  },
  {
   "cell_type": "code",
   "execution_count": 328,
   "metadata": {},
   "outputs": [
    {
     "data": {
      "text/plain": [
       "False"
      ]
     },
     "execution_count": 328,
     "metadata": {},
     "output_type": "execute_result"
    }
   ],
   "source": [
    "movies['stars'] = movies['stars'].fillna('')\n",
    "movies['stars'].isnull().any()"
   ]
  },
  {
   "cell_type": "code",
   "execution_count": 329,
   "metadata": {},
   "outputs": [],
   "source": [
    "movies['stars'] = movies['stars'].str.split(',')\n",
    "movies['n_stars'] = movies['stars'].apply(len)\n",
    "movies['stars_3'] = movies['stars'].apply(lambda x: x[:3] if len(x) >=3 else x)\n",
    "movies['stars_short'] = movies['stars_3'].apply(short)\n",
    "\n",
    "movies['director_2'] = movies['director'].apply(lambda x: [x, x])\n",
    "movies['director_short']=movies['director_2'].apply(short)\n",
    "\n",
    "movies['genre'] = movies['genre'].str.split(',')\n",
    "movies['genre_short'] = movies['genre'].apply(short)\n",
    "\n",
    "movies['keywords'] = movies['description'].apply(Preprocessor().preprocess)"
   ]
  },
  {
   "cell_type": "code",
   "execution_count": 330,
   "metadata": {},
   "outputs": [],
   "source": [
    "movies['bag'] = (movies['stars_short'] + movies['director_short'] + movies['genre_short'] + movies['keywords']).apply(lambda x: [s for s in x if s])\n",
    "#movies['bag'] = (movies['stars_short'] + movies['director_short'] + movies['genre_short']).apply(lambda x: [s for s in x if s])\n",
    "movies['bag_len'] = movies['bag'].apply(len)\n",
    "movies['list_bag'] = movies['bag'].apply(lambda x: ' '.join(x))"
   ]
  },
  {
   "cell_type": "markdown",
   "metadata": {},
   "source": [
    "#### Input Wildcard"
   ]
  },
  {
   "cell_type": "code",
   "execution_count": 331,
   "metadata": {},
   "outputs": [],
   "source": [
    "movie_name = []\n",
    "movie_dict = {}\n",
    "for name, vote in zip(movies['movie'], movies['votes']):\n",
    "    movie_name.append(name)\n",
    "    movie_dict[name] = vote\n",
    "\n",
    "index_orig_forms = build_inverted_index_orig_forms(movie_name)"
   ]
  },
  {
   "cell_type": "code",
   "execution_count": 332,
   "metadata": {},
   "outputs": [
    {
     "name": "stdout",
     "output_type": "stream",
     "text": [
      "['The Dark Knight', 'The Dark Knight Rises', 'Donnie Darko', 'Thor: The Dark World', 'Star Trek Into Darkness', 'Transformers: Dark of the Moon', 'Zero Dark Thirty', 'Dark Shadows', 'Dark City', 'Dark', 'Darkest Hour', 'Army of Darkness', 'X-Men: Dark Phoenix', 'The Dark Tower', 'Terminator: Dark Fate', 'A Scanner Darkly', 'Dancer in the Dark', 'Edge of Darkness', 'Fifty Shades Darker', 'Dark Skies', 'Dark Water', 'The Darkest Hour', 'Darkman', 'The Ghost and the Darkness', 'Scary Stories to Tell in the Dark', \"Don't Be Afraid of the Dark\", 'You Will Meet a Tall Dark Stranger', 'Under Siege 2: Dark Territory', 'Alone in the Dark', 'Dark Places', 'Dark Matter', 'Dark Waters', 'His Dark Materials', 'Hold the Dark', 'Dark Angel', 'Darkness Falls', 'Dark Water', 'The Darkest Minds', 'Poldark', 'The Dark Knight', 'The Dark Knight Rises', 'Donnie Darko', 'Thor: The Dark World', 'Star Trek Into Darkness', 'Transformers: Dark of the Moon', 'Zero Dark Thirty', 'Dark Shadows', 'Dark City', 'Dark', 'Darkest Hour', 'Army of Darkness', 'X-Men: Dark Phoenix', 'The Dark Tower', 'Terminator: Dark Fate', 'A Scanner Darkly', 'Dancer in the Dark', 'Edge of Darkness', 'Fifty Shades Darker', 'Dark Skies', 'Dark Water', 'The Darkest Hour', 'Darkman', 'The Ghost and the Darkness', 'Scary Stories to Tell in the Dark', \"Don't Be Afraid of the Dark\", 'You Will Meet a Tall Dark Stranger', 'Under Siege 2: Dark Territory', 'Alone in the Dark', 'Dark Places', 'Dark Matter', 'Dark Waters', 'His Dark Materials', 'Hold the Dark', 'Dark Angel', 'Darkness Falls', 'Dark Water', 'The Darkest Minds', 'Poldark', 'The Dark Knight', 'The Dark Knight Rises', 'Donnie Darko', 'Thor: The Dark World', 'Star Trek Into Darkness', 'Transformers: Dark of the Moon', 'Zero Dark Thirty', 'Dark Shadows', 'Dark City', 'Dark', 'Darkest Hour', 'Army of Darkness', 'X-Men: Dark Phoenix', 'The Dark Tower', 'Terminator: Dark Fate', 'A Scanner Darkly', 'Dancer in the Dark', 'Edge of Darkness', 'Fifty Shades Darker', 'Dark Skies', 'Dark Water', 'The Darkest Hour', 'Darkman', 'The Ghost and the Darkness', 'Scary Stories to Tell in the Dark', \"Don't Be Afraid of the Dark\", 'You Will Meet a Tall Dark Stranger', 'Under Siege 2: Dark Territory', 'Alone in the Dark', 'Dark Places', 'Dark Matter', 'Dark Waters', 'His Dark Materials', 'Hold the Dark', 'Dark Angel', 'Darkness Falls', 'Dark Water', 'The Darkest Minds', 'Poldark', 'Donnie Darko', 'Donnie Darko', 'Star Trek Into Darkness', 'Army of Darkness', 'Edge of Darkness', 'The Ghost and the Darkness', 'Darkness Falls', 'Star Trek Into Darkness', 'Army of Darkness', 'Edge of Darkness', 'The Ghost and the Darkness', 'Darkness Falls', 'Darkest Hour', 'The Darkest Hour', 'The Darkest Minds', 'Darkest Hour', 'The Darkest Hour', 'The Darkest Minds', 'A Scanner Darkly', 'A Scanner Darkly', 'Fifty Shades Darker', 'Fifty Shades Darker', 'Darkman', 'Darkman']\n"
     ]
    }
   ],
   "source": [
    "wildcard = \"dark\"\n",
    "top_k = 10\n",
    "\n",
    "wildcard_results = search_wildcard(wildcard, 3, index_orig_forms, movie_name)\n",
    "print(wildcard_results)"
   ]
  },
  {
   "cell_type": "code",
   "execution_count": 333,
   "metadata": {},
   "outputs": [
    {
     "name": "stdout",
     "output_type": "stream",
     "text": [
      "The Dark Knight\n",
      "The Dark Knight Rises\n",
      "Donnie Darko\n",
      "Thor: The Dark World\n",
      "Star Trek Into Darkness\n",
      "Transformers: Dark of the Moon\n",
      "Zero Dark Thirty\n",
      "Dark Shadows\n",
      "Dark City\n",
      "Dark\n",
      "Darkest Hour\n",
      "Army of Darkness\n",
      "X-Men: Dark Phoenix\n",
      "The Dark Tower\n",
      "Terminator: Dark Fate\n",
      "A Scanner Darkly\n",
      "Dancer in the Dark\n",
      "Edge of Darkness\n",
      "Fifty Shades Darker\n",
      "Dark Skies\n",
      "The Darkest Hour\n",
      "Darkman\n",
      "The Ghost and the Darkness\n",
      "Scary Stories to Tell in the Dark\n",
      "Don't Be Afraid of the Dark\n",
      "You Will Meet a Tall Dark Stranger\n",
      "Under Siege 2: Dark Territory\n",
      "Alone in the Dark\n",
      "Dark Places\n",
      "Dark Matter\n",
      "Dark Waters\n",
      "His Dark Materials\n",
      "Hold the Dark\n",
      "Dark Angel\n",
      "Darkness Falls\n",
      "Dark Water\n",
      "The Darkest Minds\n",
      "Poldark\n"
     ]
    }
   ],
   "source": [
    "if len(wildcard_results) != 0:\n",
    "    movie_result = []\n",
    "    for r in wildcard_results:\n",
    "        if r not in movie_result: \n",
    "            movie_result.append(r)\n",
    "\n",
    "    movie_res = {}\n",
    "    for name in movie_result:\n",
    "        movie_res[name] = movie_dict[name]\n",
    "\n",
    "    for i in sorted(movie_res.items(), key = lambda kv:(kv[1], kv[0]), reverse=True)[:]:\n",
    "        print(i[0])\n",
    "else:\n",
    "    print(\"Sorry, nothing to suggest! \\nType the movie title again!\")"
   ]
  },
  {
   "cell_type": "markdown",
   "metadata": {},
   "source": [
    "#### Calculate Cosine Similarity"
   ]
  },
  {
   "cell_type": "code",
   "execution_count": 334,
   "metadata": {},
   "outputs": [],
   "source": [
    "count = CountVectorizer(analyzer='word', stop_words='english')\n",
    "#count = CountVectorizer(analyzer='word', ngram_range=(1, 2), min_df=0, stop_words='english')\n",
    "movies_matrix = count.fit_transform(movies['list_bag'])"
   ]
  },
  {
   "cell_type": "code",
   "execution_count": 345,
   "metadata": {
    "scrolled": true
   },
   "outputs": [],
   "source": [
    "cosine_sim = cosine_similarity(movies_matrix)\n",
    "#cosine_sim = linear_kernel(movies_matrix, movies_matrix)"
   ]
  },
  {
   "cell_type": "code",
   "execution_count": 336,
   "metadata": {},
   "outputs": [],
   "source": [
    "def get_title_from_index(index):\n",
    "    return movies[movies['Unnamed: 0'] == index][\"movie\"].values[0]\n",
    "def get_index_from_title(title):\n",
    "    return movies[movies[\"movie\"] == title][\"Unnamed: 0\"].values[0]"
   ]
  },
  {
   "cell_type": "code",
   "execution_count": 346,
   "metadata": {},
   "outputs": [],
   "source": [
    "movie_user_likes = \"The Dark Knight\"\n",
    "movie_index = get_index_from_title(movie_user_likes)\n",
    "similar_movies = list(enumerate(cosine_sim[movie_index]))"
   ]
  },
  {
   "cell_type": "code",
   "execution_count": 347,
   "metadata": {},
   "outputs": [],
   "source": [
    "sorted_similar_movies = sorted(similar_movies,key=lambda x:x[1],reverse=True)[0:11]"
   ]
  },
  {
   "cell_type": "code",
   "execution_count": 339,
   "metadata": {},
   "outputs": [
    {
     "name": "stdout",
     "output_type": "stream",
     "text": [
      "[(1, 1.0000000000000007), (17, 0.4082482904638631), (10, 0.3396831102433788), (24, 0.24077170617153845), (558, 0.24077170617153845), (813, 0.2333800140046683), (179, 0.23094010767585035), (2083, 0.22680460581325726), (4495, 0.22075539284417395), (12, 0.21516574145596762), (2634, 0.2151657414559676)]\n"
     ]
    }
   ],
   "source": [
    "print(sorted_similar_movies)"
   ]
  },
  {
   "cell_type": "code",
   "execution_count": 348,
   "metadata": {},
   "outputs": [
    {
     "name": "stdout",
     "output_type": "stream",
     "text": [
      "[(1, 27.0), (10, 9.0), (17, 9.0), (24, 6.0), (179, 6.0), (558, 6.0), (2, 5.0), (12, 5.0), (64, 5.0), (366, 5.0), (562, 5.0)]\n"
     ]
    }
   ],
   "source": [
    "print(sorted_similar_movies)"
   ]
  },
  {
   "cell_type": "code",
   "execution_count": 341,
   "metadata": {
    "scrolled": true
   },
   "outputs": [
    {
     "name": "stdout",
     "output_type": "stream",
     "text": [
      "Top 5 similar movies to The Dark Knight are:\n",
      "\n",
      "1 The Dark Knight\n",
      "17 Batman Begins\n",
      "10 The Dark Knight Rises\n",
      "24 The Prestige\n",
      "558 Batman Returns\n",
      "813 Gotham\n",
      "179 Dunkirk\n",
      "2083 Following\n",
      "4495 Alphas\n",
      "12 Interstellar\n",
      "2634 Harsh Times\n"
     ]
    }
   ],
   "source": [
    "i=0\n",
    "movie_recommended = []\n",
    "print(\"Top k similar movies to \"+movie_user_likes+\" are:\\n\")\n",
    "for element in sorted_similar_movies:\n",
    "    movie_recommended.append(get_title_from_index(element[0]))\n",
    "    print(element[0], get_title_from_index(element[0]))\n",
    "    i=i+1\n",
    "    if i>10:\n",
    "        break"
   ]
  },
  {
   "cell_type": "code",
   "execution_count": 349,
   "metadata": {},
   "outputs": [
    {
     "name": "stdout",
     "output_type": "stream",
     "text": [
      "Top 5 similar movies to The Dark Knight are:\n",
      "\n",
      "1 The Dark Knight\n",
      "10 The Dark Knight Rises\n",
      "17 Batman Begins\n",
      "24 The Prestige\n",
      "179 Dunkirk\n",
      "558 Batman Returns\n",
      "2 Inception\n",
      "12 Interstellar\n",
      "64 Joker\n",
      "366 Daredevil\n",
      "562 Insomnia\n"
     ]
    }
   ],
   "source": [
    "i=0\n",
    "movie_recommended = []\n",
    "print(\"Top k similar movies to \"+movie_user_likes+\" are:\\n\")\n",
    "for element in sorted_similar_movies:\n",
    "    movie_recommended.append(get_title_from_index(element[0]))\n",
    "    print(element[0], get_title_from_index(element[0]))\n",
    "    i=i+1\n",
    "    if i>10:\n",
    "        break"
   ]
  },
  {
   "cell_type": "code",
   "execution_count": 350,
   "metadata": {},
   "outputs": [
    {
     "data": {
      "text/plain": [
       "'In Gotham City, mentally troubled comedian Arthur Fleck is disregarded and mistreated by society. He then embarks on a downward spiral of revolution and bloody crime. This path brings him face-to-face with his alter-ego: the Joker.'"
      ]
     },
     "execution_count": 350,
     "metadata": {},
     "output_type": "execute_result"
    }
   ],
   "source": [
    "movies['description'].values[64]"
   ]
  },
  {
   "cell_type": "code",
   "execution_count": 343,
   "metadata": {},
   "outputs": [],
   "source": [
    "# map that gives the movie index in dataframe\n",
    "indices = pd.Series(movies.index, index = movies['movie'])\n",
    "\n",
    "# function that provides a list of similar movies\n",
    "def recommendations(title):\n",
    "    \n",
    "    # get index of the movie in the dataframe\n",
    "    idx = indices[title]\n",
    "    \n",
    "    # get movie matrix for the selected movie\n",
    "    chosen_movie_matrix = movies_matrix[idx]\n",
    "    \n",
    "    #get cosine similarity of all the movies with the selected movie\n",
    "    cos_sim = cosine_similarity(chosen_movie_matrix, movies_matrix)\n",
    "    \n",
    "    # get a list of tuple where first is movie index and second is cos similarity score for all \n",
    "    #the movies with the provided movie. Similarity score is penalised based on the number of contents of the bag. \n",
    "    scores = [(i, sim - 1/(movies.iloc[i]['bag_len']+.0001)) for i, sim in enumerate(cos_sim[0])]\n",
    "\n",
    "    # sorting all the movies based on the similarity scores in an ascending order\n",
    "    scores.sort(key=lambda x: x[1], reverse=True)\n",
    "\n",
    "    # get the indices of the top 10 similar movies\n",
    "    #movie_indices = [i[0] for i in scores[1:11]]\n",
    "    movie_indices = []\n",
    "    similarity = []\n",
    "    for i in scores[1:21]:\n",
    "        similarity.append(i[1])\n",
    "        movie_indices.append(i[0])\n",
    "    \n",
    "    # get the names of the most similar movies\n",
    "    name = movies.iloc[movie_indices]['movie']\n",
    "    year = movies.iloc[movie_indices]['year']\n",
    "    genre = movies.iloc[movie_indices]['genre']\n",
    "    description = movies.iloc[movie_indices]['description']\n",
    "    director = movies.iloc[movie_indices]['director']\n",
    "    stars = movies.iloc[movie_indices]['stars']\n",
    "    imdb = movies.iloc[movie_indices]['imdb']\n",
    "    result = pd.concat([name, year, description, genre, director, stars, imdb], axis=1)\n",
    "    result['cos_sim'] = similarity\n",
    "    return result"
   ]
  },
  {
   "cell_type": "code",
   "execution_count": 351,
   "metadata": {},
   "outputs": [
    {
     "data": {
      "text/html": [
       "<div>\n",
       "<style scoped>\n",
       "    .dataframe tbody tr th:only-of-type {\n",
       "        vertical-align: middle;\n",
       "    }\n",
       "\n",
       "    .dataframe tbody tr th {\n",
       "        vertical-align: top;\n",
       "    }\n",
       "\n",
       "    .dataframe thead th {\n",
       "        text-align: right;\n",
       "    }\n",
       "</style>\n",
       "<table border=\"1\" class=\"dataframe\">\n",
       "  <thead>\n",
       "    <tr style=\"text-align: right;\">\n",
       "      <th></th>\n",
       "      <th>movie</th>\n",
       "      <th>year</th>\n",
       "      <th>description</th>\n",
       "      <th>genre</th>\n",
       "      <th>director</th>\n",
       "      <th>stars</th>\n",
       "      <th>imdb</th>\n",
       "      <th>cos_sim</th>\n",
       "    </tr>\n",
       "  </thead>\n",
       "  <tbody>\n",
       "    <tr>\n",
       "      <th>3395</th>\n",
       "      <td>CSI: NY</td>\n",
       "      <td>2004-2013</td>\n",
       "      <td>CSI head Detective Mac Taylor and his team sol...</td>\n",
       "      <td>[Action,  Crime,  Drama]</td>\n",
       "      <td></td>\n",
       "      <td>[['Gary Sinise,  Carmine Giovinazzo,  Hill Har...</td>\n",
       "      <td>6.9</td>\n",
       "      <td>0.275026</td>\n",
       "    </tr>\n",
       "    <tr>\n",
       "      <th>2571</th>\n",
       "      <td>A Most Violent Year</td>\n",
       "      <td>2014</td>\n",
       "      <td>In New York City 1981, an ambitious immigrant ...</td>\n",
       "      <td>[Action,  Crime,  Drama]</td>\n",
       "      <td>['J.C. Chandor']</td>\n",
       "      <td>[['Oscar Isaac,  Jessica Chastain,  David Oyel...</td>\n",
       "      <td>7.0</td>\n",
       "      <td>0.243424</td>\n",
       "    </tr>\n",
       "    <tr>\n",
       "      <th>2605</th>\n",
       "      <td>Dead Man Down</td>\n",
       "      <td>2013</td>\n",
       "      <td>In New York City, a crime lord's right-hand ma...</td>\n",
       "      <td>[Action,  Crime,  Drama]</td>\n",
       "      <td>['Niels Arden Oplev']</td>\n",
       "      <td>[['Colin Farrell,  Noomi Rapace,  Dominic Coop...</td>\n",
       "      <td>6.5</td>\n",
       "      <td>0.202989</td>\n",
       "    </tr>\n",
       "    <tr>\n",
       "      <th>3158</th>\n",
       "      <td>15 Minutes</td>\n",
       "      <td>2001</td>\n",
       "      <td>A homicide detective and a fire marshal must s...</td>\n",
       "      <td>[Action,  Crime,  Drama]</td>\n",
       "      <td>['John Herzfeld']</td>\n",
       "      <td>[['Robert De Niro,  Edward Burns,  Kelsey Gram...</td>\n",
       "      <td>6.1</td>\n",
       "      <td>0.202083</td>\n",
       "    </tr>\n",
       "    <tr>\n",
       "      <th>4246</th>\n",
       "      <td>New Jack City</td>\n",
       "      <td>1991</td>\n",
       "      <td>A crime lord ascends to power and becomes mega...</td>\n",
       "      <td>[Action,  Crime,  Drama]</td>\n",
       "      <td>['Mario Van Peebles']</td>\n",
       "      <td>[['Wesley Snipes,  Ice-T,  Allen Payne,  Chris...</td>\n",
       "      <td>6.7</td>\n",
       "      <td>0.200230</td>\n",
       "    </tr>\n",
       "    <tr>\n",
       "      <th>10</th>\n",
       "      <td>The Dark Knight Rises</td>\n",
       "      <td>2012</td>\n",
       "      <td>Eight years after the Joker's reign of anarchy...</td>\n",
       "      <td>[Action,  Adventure]</td>\n",
       "      <td>['Christopher Nolan']</td>\n",
       "      <td>[['Christian Bale,  Tom Hardy,  Anne Hathaway,...</td>\n",
       "      <td>8.4</td>\n",
       "      <td>0.197826</td>\n",
       "    </tr>\n",
       "    <tr>\n",
       "      <th>1</th>\n",
       "      <td>The Dark Knight</td>\n",
       "      <td>2008</td>\n",
       "      <td>When the menace known as the Joker wreaks havo...</td>\n",
       "      <td>[Action,  Crime,  Drama]</td>\n",
       "      <td>['Christopher Nolan']</td>\n",
       "      <td>[['Christian Bale,  Heath Ledger,  Aaron Eckha...</td>\n",
       "      <td>9.0</td>\n",
       "      <td>0.196343</td>\n",
       "    </tr>\n",
       "    <tr>\n",
       "      <th>667</th>\n",
       "      <td>The Other Guys</td>\n",
       "      <td>2010</td>\n",
       "      <td>Two mismatched New York City detectives seize ...</td>\n",
       "      <td>[Action,  Comedy,  Crime]</td>\n",
       "      <td>['Adam McKay']</td>\n",
       "      <td>[['Will Ferrell,  Mark Wahlberg,  Derek Jeter,...</td>\n",
       "      <td>6.6</td>\n",
       "      <td>0.194919</td>\n",
       "    </tr>\n",
       "    <tr>\n",
       "      <th>4658</th>\n",
       "      <td>Batwoman</td>\n",
       "      <td>2019</td>\n",
       "      <td>Kate Kane seeks justice for Gotham City as Bat...</td>\n",
       "      <td>[Action,  Adventure,  Crime]</td>\n",
       "      <td></td>\n",
       "      <td>[['Ruby Rose,  Camrus Johnson,  Rachel Skarste...</td>\n",
       "      <td>3.5</td>\n",
       "      <td>0.192147</td>\n",
       "    </tr>\n",
       "    <tr>\n",
       "      <th>1768</th>\n",
       "      <td>Elementary</td>\n",
       "      <td>2012-2019</td>\n",
       "      <td>A modern take on the cases of Sherlock Holmes,...</td>\n",
       "      <td>[Crime,  Drama,  Mystery]</td>\n",
       "      <td></td>\n",
       "      <td>[['Jonny Lee Miller,  Lucy Liu,  Aidan Quinn, ...</td>\n",
       "      <td>7.9</td>\n",
       "      <td>0.187990</td>\n",
       "    </tr>\n",
       "    <tr>\n",
       "      <th>25</th>\n",
       "      <td>The Wolf of Wall Street</td>\n",
       "      <td>2013</td>\n",
       "      <td>Based on the true story of Jordan Belfort, fro...</td>\n",
       "      <td>[Biography,  Crime,  Drama]</td>\n",
       "      <td>['Martin Scorsese']</td>\n",
       "      <td>[['Leonardo DiCaprio,  Jonah Hill,  Margot Rob...</td>\n",
       "      <td>8.2</td>\n",
       "      <td>0.187508</td>\n",
       "    </tr>\n",
       "    <tr>\n",
       "      <th>1442</th>\n",
       "      <td>Max Payne</td>\n",
       "      <td>2008</td>\n",
       "      <td>Coming together to solve a series of murders i...</td>\n",
       "      <td>[Action,  Crime,  Drama]</td>\n",
       "      <td>['John Moore']</td>\n",
       "      <td>[['Mark Wahlberg,  Mila Kunis,  Beau Bridges, ...</td>\n",
       "      <td>5.4</td>\n",
       "      <td>0.187508</td>\n",
       "    </tr>\n",
       "    <tr>\n",
       "      <th>3204</th>\n",
       "      <td>Batman: The Killing Joke</td>\n",
       "      <td>2016</td>\n",
       "      <td>As Batman hunts for the escaped Joker, the Clo...</td>\n",
       "      <td>[Animation,  Action,  Crime]</td>\n",
       "      <td>['Sam Liu']</td>\n",
       "      <td>[['Kevin Conroy,  Mark Hamill,  Tara Strong,  ...</td>\n",
       "      <td>6.4</td>\n",
       "      <td>0.187508</td>\n",
       "    </tr>\n",
       "    <tr>\n",
       "      <th>64</th>\n",
       "      <td>Joker</td>\n",
       "      <td>2019</td>\n",
       "      <td>In Gotham City, mentally troubled comedian Art...</td>\n",
       "      <td>[Crime,  Drama,  Thriller]</td>\n",
       "      <td>['Todd Phillips']</td>\n",
       "      <td>[['Joaquin Phoenix,  Robert De Niro,  Zazie Be...</td>\n",
       "      <td>8.5</td>\n",
       "      <td>0.180767</td>\n",
       "    </tr>\n",
       "    <tr>\n",
       "      <th>2089</th>\n",
       "      <td>Batman: The Animated Series</td>\n",
       "      <td>1992-1995</td>\n",
       "      <td>The Dark Knight battles crime in Gotham City w...</td>\n",
       "      <td>[Animation,  Action,  Adventure]</td>\n",
       "      <td></td>\n",
       "      <td>[['Kevin Conroy,  Loren Lester,  Efrem Zimbali...</td>\n",
       "      <td>9.0</td>\n",
       "      <td>0.180036</td>\n",
       "    </tr>\n",
       "    <tr>\n",
       "      <th>828</th>\n",
       "      <td>Gangster Squad</td>\n",
       "      <td>2013</td>\n",
       "      <td>It's 1949 Los Angeles, the city is run by gang...</td>\n",
       "      <td>[Action,  Crime,  Drama]</td>\n",
       "      <td>['Ruben Fleischer']</td>\n",
       "      <td>[['Sean Penn,  Ryan Gosling,  Emma Stone,  Gio...</td>\n",
       "      <td>6.7</td>\n",
       "      <td>0.175715</td>\n",
       "    </tr>\n",
       "    <tr>\n",
       "      <th>3565</th>\n",
       "      <td>Defiance</td>\n",
       "      <td>2013-2015</td>\n",
       "      <td>Life in the city of Defiance, in a near future...</td>\n",
       "      <td>[Action,  Drama,  Sci-Fi]</td>\n",
       "      <td></td>\n",
       "      <td>[['Grant Bowler,  Stephanie Leonidas,  Julie B...</td>\n",
       "      <td>7.0</td>\n",
       "      <td>0.172795</td>\n",
       "    </tr>\n",
       "    <tr>\n",
       "      <th>4782</th>\n",
       "      <td>Mirzapur</td>\n",
       "      <td>2018</td>\n",
       "      <td>A shocking incident at a wedding procession ig...</td>\n",
       "      <td>[Action,  Crime,  Drama]</td>\n",
       "      <td></td>\n",
       "      <td>[['Pankaj Tripathi,  Ali Fazal,  Vikrant Masse...</td>\n",
       "      <td>8.5</td>\n",
       "      <td>0.172566</td>\n",
       "    </tr>\n",
       "    <tr>\n",
       "      <th>2346</th>\n",
       "      <td>Shaft</td>\n",
       "      <td>2000</td>\n",
       "      <td>New York City police detective John Shaft (nep...</td>\n",
       "      <td>[Action,  Crime,  Thriller]</td>\n",
       "      <td>['John Singleton']</td>\n",
       "      <td>[['Samuel L. Jackson,  Vanessa Williams,  Chri...</td>\n",
       "      <td>5.9</td>\n",
       "      <td>0.171647</td>\n",
       "    </tr>\n",
       "    <tr>\n",
       "      <th>2968</th>\n",
       "      <td>CSI: Miami</td>\n",
       "      <td>2002-2012</td>\n",
       "      <td>The cases of the Miami-Dade, Florida police de...</td>\n",
       "      <td>[Action,  Crime,  Drama]</td>\n",
       "      <td></td>\n",
       "      <td>[['David Caruso,  Emily Procter,  Adam Rodrigu...</td>\n",
       "      <td>6.4</td>\n",
       "      <td>0.171108</td>\n",
       "    </tr>\n",
       "  </tbody>\n",
       "</table>\n",
       "</div>"
      ],
      "text/plain": [
       "                            movie       year  \\\n",
       "3395                      CSI: NY  2004-2013   \n",
       "2571          A Most Violent Year       2014   \n",
       "2605                Dead Man Down       2013   \n",
       "3158                   15 Minutes       2001   \n",
       "4246                New Jack City       1991   \n",
       "10          The Dark Knight Rises       2012   \n",
       "1                 The Dark Knight       2008   \n",
       "667                The Other Guys       2010   \n",
       "4658                     Batwoman       2019   \n",
       "1768                   Elementary  2012-2019   \n",
       "25        The Wolf of Wall Street       2013   \n",
       "1442                    Max Payne       2008   \n",
       "3204     Batman: The Killing Joke       2016   \n",
       "64                          Joker       2019   \n",
       "2089  Batman: The Animated Series  1992-1995   \n",
       "828                Gangster Squad       2013   \n",
       "3565                     Defiance  2013-2015   \n",
       "4782                     Mirzapur       2018   \n",
       "2346                        Shaft       2000   \n",
       "2968                   CSI: Miami  2002-2012   \n",
       "\n",
       "                                            description  \\\n",
       "3395  CSI head Detective Mac Taylor and his team sol...   \n",
       "2571  In New York City 1981, an ambitious immigrant ...   \n",
       "2605  In New York City, a crime lord's right-hand ma...   \n",
       "3158  A homicide detective and a fire marshal must s...   \n",
       "4246  A crime lord ascends to power and becomes mega...   \n",
       "10    Eight years after the Joker's reign of anarchy...   \n",
       "1     When the menace known as the Joker wreaks havo...   \n",
       "667   Two mismatched New York City detectives seize ...   \n",
       "4658  Kate Kane seeks justice for Gotham City as Bat...   \n",
       "1768  A modern take on the cases of Sherlock Holmes,...   \n",
       "25    Based on the true story of Jordan Belfort, fro...   \n",
       "1442  Coming together to solve a series of murders i...   \n",
       "3204  As Batman hunts for the escaped Joker, the Clo...   \n",
       "64    In Gotham City, mentally troubled comedian Art...   \n",
       "2089  The Dark Knight battles crime in Gotham City w...   \n",
       "828   It's 1949 Los Angeles, the city is run by gang...   \n",
       "3565  Life in the city of Defiance, in a near future...   \n",
       "4782  A shocking incident at a wedding procession ig...   \n",
       "2346  New York City police detective John Shaft (nep...   \n",
       "2968  The cases of the Miami-Dade, Florida police de...   \n",
       "\n",
       "                                 genre               director  \\\n",
       "3395          [Action,  Crime,  Drama]                          \n",
       "2571          [Action,  Crime,  Drama]       ['J.C. Chandor']   \n",
       "2605          [Action,  Crime,  Drama]  ['Niels Arden Oplev']   \n",
       "3158          [Action,  Crime,  Drama]      ['John Herzfeld']   \n",
       "4246          [Action,  Crime,  Drama]  ['Mario Van Peebles']   \n",
       "10                [Action,  Adventure]  ['Christopher Nolan']   \n",
       "1             [Action,  Crime,  Drama]  ['Christopher Nolan']   \n",
       "667          [Action,  Comedy,  Crime]         ['Adam McKay']   \n",
       "4658      [Action,  Adventure,  Crime]                          \n",
       "1768         [Crime,  Drama,  Mystery]                          \n",
       "25         [Biography,  Crime,  Drama]    ['Martin Scorsese']   \n",
       "1442          [Action,  Crime,  Drama]         ['John Moore']   \n",
       "3204      [Animation,  Action,  Crime]            ['Sam Liu']   \n",
       "64          [Crime,  Drama,  Thriller]      ['Todd Phillips']   \n",
       "2089  [Animation,  Action,  Adventure]                          \n",
       "828           [Action,  Crime,  Drama]    ['Ruben Fleischer']   \n",
       "3565         [Action,  Drama,  Sci-Fi]                          \n",
       "4782          [Action,  Crime,  Drama]                          \n",
       "2346       [Action,  Crime,  Thriller]     ['John Singleton']   \n",
       "2968          [Action,  Crime,  Drama]                          \n",
       "\n",
       "                                                  stars  imdb   cos_sim  \n",
       "3395  [['Gary Sinise,  Carmine Giovinazzo,  Hill Har...   6.9  0.275026  \n",
       "2571  [['Oscar Isaac,  Jessica Chastain,  David Oyel...   7.0  0.243424  \n",
       "2605  [['Colin Farrell,  Noomi Rapace,  Dominic Coop...   6.5  0.202989  \n",
       "3158  [['Robert De Niro,  Edward Burns,  Kelsey Gram...   6.1  0.202083  \n",
       "4246  [['Wesley Snipes,  Ice-T,  Allen Payne,  Chris...   6.7  0.200230  \n",
       "10    [['Christian Bale,  Tom Hardy,  Anne Hathaway,...   8.4  0.197826  \n",
       "1     [['Christian Bale,  Heath Ledger,  Aaron Eckha...   9.0  0.196343  \n",
       "667   [['Will Ferrell,  Mark Wahlberg,  Derek Jeter,...   6.6  0.194919  \n",
       "4658  [['Ruby Rose,  Camrus Johnson,  Rachel Skarste...   3.5  0.192147  \n",
       "1768  [['Jonny Lee Miller,  Lucy Liu,  Aidan Quinn, ...   7.9  0.187990  \n",
       "25    [['Leonardo DiCaprio,  Jonah Hill,  Margot Rob...   8.2  0.187508  \n",
       "1442  [['Mark Wahlberg,  Mila Kunis,  Beau Bridges, ...   5.4  0.187508  \n",
       "3204  [['Kevin Conroy,  Mark Hamill,  Tara Strong,  ...   6.4  0.187508  \n",
       "64    [['Joaquin Phoenix,  Robert De Niro,  Zazie Be...   8.5  0.180767  \n",
       "2089  [['Kevin Conroy,  Loren Lester,  Efrem Zimbali...   9.0  0.180036  \n",
       "828   [['Sean Penn,  Ryan Gosling,  Emma Stone,  Gio...   6.7  0.175715  \n",
       "3565  [['Grant Bowler,  Stephanie Leonidas,  Julie B...   7.0  0.172795  \n",
       "4782  [['Pankaj Tripathi,  Ali Fazal,  Vikrant Masse...   8.5  0.172566  \n",
       "2346  [['Samuel L. Jackson,  Vanessa Williams,  Chri...   5.9  0.171647  \n",
       "2968  [['David Caruso,  Emily Procter,  Adam Rodrigu...   6.4  0.171108  "
      ]
     },
     "execution_count": 351,
     "metadata": {},
     "output_type": "execute_result"
    }
   ],
   "source": [
    "recommendations('Gotham')"
   ]
  },
  {
   "cell_type": "code",
   "execution_count": null,
   "metadata": {},
   "outputs": [],
   "source": []
  }
 ],
 "metadata": {
  "kernelspec": {
   "display_name": "Python 3",
   "language": "python",
   "name": "python3"
  },
  "language_info": {
   "codemirror_mode": {
    "name": "ipython",
    "version": 3
   },
   "file_extension": ".py",
   "mimetype": "text/x-python",
   "name": "python",
   "nbconvert_exporter": "python",
   "pygments_lexer": "ipython3",
   "version": "3.7.6"
  }
 },
 "nbformat": 4,
 "nbformat_minor": 4
}
